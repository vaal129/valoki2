{
  "nbformat": 4,
  "nbformat_minor": 0,
  "metadata": {
    "colab": {
      "provenance": [],
      "authorship_tag": "ABX9TyPb/O6oecdeeDmkc7xLTcci",
      "include_colab_link": true
    },
    "kernelspec": {
      "name": "python3",
      "display_name": "Python 3"
    },
    "language_info": {
      "name": "python"
    }
  },
  "cells": [
    {
      "cell_type": "markdown",
      "metadata": {
        "id": "view-in-github",
        "colab_type": "text"
      },
      "source": [
        "<a href=\"https://colab.research.google.com/github/vaal129/valoki2/blob/main/vectores.ipynb\" target=\"_parent\"><img src=\"https://colab.research.google.com/assets/colab-badge.svg\" alt=\"Open In Colab\"/></a>"
      ]
    },
    {
      "cell_type": "code",
      "execution_count": null,
      "metadata": {
        "id": "2y7G0CPKnYyn"
      },
      "outputs": [],
      "source": [
        "import numpy as np #np es un alias para recortar el nombre de numpy\n",
        "\n",
        "vector = np.array([1, 2, 3, 4, 5])\n",
        "print(vector)\n",
        "\n",
        "print (vector[2])\n",
        "\n",
        "\"\"\"Los vectores o son como las listas, no tiene  un metodo end() para agregar elementos o tienen un metodo pop() para eliminar elementos, pero si tenen metodo reshape()\n",
        " para cambiar su forma, adicionalmente despues creado no se puede cambiar el tamaño del vector. \"\"\"\n",
        "\n",
        "vector1  = np.zeros(5)\n",
        "print(vector1)\n",
        "\n",
        "vector2 = np.ones(5)\n",
        "print(vector2)\n",
        "\n",
        "vector3 = np.arange(1,10)\n",
        "print(\"rango\", vector3)\n",
        "\n",
        "vector4 = np.linspace(1,10,5)\n",
        "print(\"linspace\", vector4)\n",
        "\n",
        "vector5 = np.random.rand(10)\n",
        "print(\"random\", vector5)\n",
        "\n",
        "vector6 = np.random.randint(1,10,100)\n",
        "print(\"random int\", vector6)"
      ]
    }
  ]
}